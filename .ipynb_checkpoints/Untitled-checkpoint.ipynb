{
<<<<<<< Updated upstream
 "cells": [
  {
   "cell_type": "code",
   "execution_count": 2,
   "metadata": {},
   "outputs": [],
   "source": [
    "import pandas as pd\n",
    "from sqlalchemy import create_engine\n",
    "import psycopg2\n",
    "import urllib.parse\n",
    "from urllib.parse import quote_plus as urlquote\n"
   ]
  },
  {
   "cell_type": "code",
   "execution_count": null,
   "metadata": {},
   "outputs": [],
   "source": [
    "covid data_csv = \n",
    "\n",
    "covid_df = pd.read_csv(covid_csv_path) = \n",
    "\n"
   ]
  }
 ],
 "metadata": {
  "kernelspec": {
   "display_name": "Python 3",
   "language": "python",
   "name": "python3"
  },
  "language_info": {
   "codemirror_mode": {
    "name": "ipython",
    "version": 3
   },
   "file_extension": ".py",
   "mimetype": "text/x-python",
   "name": "python",
   "nbconvert_exporter": "python",
   "pygments_lexer": "ipython3",
   "version": "3.8.5"
  }
 },
=======
 "cells": [],
 "metadata": {},
>>>>>>> Stashed changes
 "nbformat": 4,
 "nbformat_minor": 4
}
